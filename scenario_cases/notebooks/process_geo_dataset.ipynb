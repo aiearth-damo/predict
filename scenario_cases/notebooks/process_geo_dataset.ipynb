{
 "cells": [
  {
   "attachments": {},
   "cell_type": "markdown",
   "metadata": {},
   "source": [
    "## 遥感数据处理"
   ]
  },
  {
   "attachments": {},
   "cell_type": "markdown",
   "metadata": {},
   "source": [
    "SDK还提供了用于遥感数据处理的pipeline，这里以遥感RGB影像转灰度图为例进行流程说明"
   ]
  },
  {
   "attachments": {},
   "cell_type": "markdown",
   "metadata": {},
   "source": [
    "### import依赖"
   ]
  },
  {
   "attachments": {},
   "cell_type": "markdown",
   "metadata": {},
   "source": [
    "引入需要的包依赖"
   ]
  },
  {
   "cell_type": "code",
   "execution_count": null,
   "metadata": {},
   "outputs": [],
   "source": [
    "from aiearth.predict.processors import (\n",
    "    Chw2HwcProcessor,\n",
    "    RGB2GrayProcessor,\n",
    ")\n",
    "from aiearth.predict.pipelines import GeoDatasetProcessPipeline\n",
    "\n",
    "from aiearth.predict.logging import root_logger as logger"
   ]
  },
  {
   "attachments": {},
   "cell_type": "markdown",
   "metadata": {},
   "source": [
    "### 初始化pipeline"
   ]
  },
  {
   "attachments": {},
   "cell_type": "markdown",
   "metadata": {},
   "source": [
    "初始化遥感数据处理任务pipeline：\n",
    "\n",
    "* processors：处理算子，参数类型为List，可传递多个处理算子，在pipeline里面会将算子组合成一个调用链"
   ]
  },
  {
   "cell_type": "code",
   "execution_count": null,
   "metadata": {},
   "outputs": [],
   "source": [
    "pipe = GeoDatasetProcessPipeline(\n",
    "    processors=[\n",
    "        Chw2HwcProcessor([\"image\"]),\n",
    "        RGB2GrayProcessor([\"image\"]),\n",
    "    ]\n",
    ")"
   ]
  },
  {
   "attachments": {},
   "cell_type": "markdown",
   "metadata": {},
   "source": [
    "### 运行pipeline"
   ]
  },
  {
   "attachments": {},
   "cell_type": "markdown",
   "metadata": {},
   "source": [
    "运行pipeline，`polygonization=False`表示结果不进行转shape操作，pipeline运行完成之后会在当前目录输出结果tiff文件"
   ]
  },
  {
   "cell_type": "code",
   "execution_count": null,
   "metadata": {},
   "outputs": [],
   "source": [
    "logger.info(\"run pipeline\")\n",
    "pipe(\n",
    "    \"/path/to/your/tiff\",\n",
    "    polygonization=False,\n",
    ")"
   ]
  },
  {
   "attachments": {},
   "cell_type": "markdown",
   "metadata": {},
   "source": [
    "运行的时候需要将`/path/to/your/tiff`路径替换为本地tiff影像的绝对路径"
   ]
  }
 ],
 "metadata": {
  "kernelspec": {
   "display_name": "python37",
   "language": "python",
   "name": "python3"
  },
  "language_info": {
   "codemirror_mode": {
    "name": "ipython",
    "version": 3
   },
   "file_extension": ".py",
   "mimetype": "text/x-python",
   "name": "python",
   "nbconvert_exporter": "python",
   "pygments_lexer": "ipython3",
   "version": "3.7.13"
  },
  "vscode": {
   "interpreter": {
    "hash": "ccebe88ab91f0bb415246e570257620d1c095de960a0f0aa1c4929cc3258df9a"
   }
  }
 },
 "nbformat": 4,
 "nbformat_minor": 2
}
