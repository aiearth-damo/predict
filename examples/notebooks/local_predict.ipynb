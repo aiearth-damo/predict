{
 "cells": [
  {
   "attachments": {},
   "cell_type": "markdown",
   "metadata": {},
   "source": [
    "## 本地模型推理"
   ]
  },
  {
   "attachments": {},
   "cell_type": "markdown",
   "metadata": {},
   "source": [
    "### import依赖"
   ]
  },
  {
   "attachments": {},
   "cell_type": "markdown",
   "metadata": {},
   "source": [
    "引入需要的包依赖"
   ]
  },
  {
   "cell_type": "code",
   "execution_count": null,
   "metadata": {},
   "outputs": [],
   "source": [
    "from aiearth.predict.checkpoint import ModelCheckpoint\n",
    "from aiearth.predict.predictors import TensorrtPredictor\n",
    "from aiearth.predict.processors import (\n",
    "    Chw2HwcProcessor,\n",
    "    MeanNormProcessor,\n",
    "    Hwc2ChwProcessor,\n",
    "    SqueezeNdimProcessor,\n",
    "    MaskBinarizationProcessor,\n",
    ")\n",
    "from aiearth.predict.pipelines import GeoSegmentationPredictPipeline\n",
    "\n",
    "from aiearth.predict.logging import root_logger as logger"
   ]
  },
  {
   "attachments": {},
   "cell_type": "markdown",
   "metadata": {},
   "source": [
    "### 初始化checkpoint"
   ]
  },
  {
   "attachments": {},
   "cell_type": "markdown",
   "metadata": {},
   "source": [
    "从本地模型的onnx路径初始化ModelCheckpoint，image_size参数是模型输入图像的大小，bound参数是模型预测需要忽略的边界大小，不计入最后结果"
   ]
  },
  {
   "cell_type": "code",
   "execution_count": null,
   "metadata": {},
   "outputs": [],
   "source": [
    "ckpt = ModelCheckpoint.from_local_path(\n",
    "    \"/path/to/your/onnx\",\n",
    "    image_size=1024,\n",
    "    bound=128,\n",
    ")"
   ]
  },
  {
   "attachments": {},
   "cell_type": "markdown",
   "metadata": {},
   "source": [
    "运行的时候需要将 `/path/to/your/onnx` 路径替换为本地onnx模型的绝对路径，并将image_size和bound修改为模型对应的参数"
   ]
  },
  {
   "attachments": {},
   "cell_type": "markdown",
   "metadata": {},
   "source": [
    "### 初始化pipeline"
   ]
  },
  {
   "attachments": {},
   "cell_type": "markdown",
   "metadata": {},
   "source": [
    "初始化遥感分割推理任务的pipeline：\n",
    "\n",
    "* model_checkpoint：模型checkpoint\n",
    "\n",
    "* predictor_cls：模型推理类，通过model_checkpoint进行延迟初始化，可根据需求自定义predictor\n",
    "\n",
    "* pre_processors：模型前处理，参数类型为`List`，可传递多个处理算子，在pipeline里面会将算子组合成一个调用链\n",
    "\n",
    "* post_processors：模型后处理，参数类型为`List`，可传递多个处理算子，在pipeline里面会将算子组合成一个调用链"
   ]
  },
  {
   "cell_type": "code",
   "execution_count": null,
   "metadata": {},
   "outputs": [],
   "source": [
    "pipe = GeoSegmentationPredictPipeline(\n",
    "    model_checkpoint=ckpt,\n",
    "    predictor_cls=TensorrtPredictor,\n",
    "    pre_processors=[\n",
    "        Chw2HwcProcessor([\"image\"]),\n",
    "        MeanNormProcessor(\n",
    "            [\"image\"], [123.675, 116.28, 103.53], [0.01712475, 0.017507, 0.01742919]\n",
    "        ),\n",
    "        Hwc2ChwProcessor([\"image\"]),\n",
    "    ],\n",
    "    post_processors=[\n",
    "        SqueezeNdimProcessor([\"image\"]),\n",
    "        MaskBinarizationProcessor([\"image\"], 127.5),\n",
    "    ],\n",
    ")"
   ]
  },
  {
   "attachments": {},
   "cell_type": "markdown",
   "metadata": {},
   "source": [
    "示例这里predictor推理类使用的是`TensorrtPredictor`，可使用TensorRT转换的trt engine文件进行推理加速\n",
    "\n",
    "模型前处理使用的是`Chw2HwcProcessor->MeanNormProcessor->Hwc2ChwProcessor`，Chw2HwcProcessor将`rasterio`读取的CHW图像格式转换为HWC格式，MeanNormProcessor将图像进行归一化处理，计算逻辑为`(X-mean)*norm`，Hwc2ChwProcessor再将HWC格式转换为CHW格式作为推理的输入\n",
    "\n",
    "模型后处理使用的是`SqueezeNdimProcessor->MaskBinarizationProcessor`，推理的batch_size设置为1，SqueezeNdimProcessor为去掉batch维度，MaskBinarizationProcessor通过mask_threshold阈值将推理结果转换为mask灰度图"
   ]
  },
  {
   "attachments": {},
   "cell_type": "markdown",
   "metadata": {},
   "source": [
    "### 运行pipeline"
   ]
  },
  {
   "attachments": {},
   "cell_type": "markdown",
   "metadata": {},
   "source": [
    "运行pipeline，pipeline运行完成之后会在当前目录输出结果shape文件"
   ]
  },
  {
   "cell_type": "code",
   "execution_count": null,
   "metadata": {},
   "outputs": [],
   "source": [
    "logger.info(\"run pipeline\")\n",
    "pipe(\n",
    "    \"/path/to/your/tiff\",\n",
    ")"
   ]
  },
  {
   "attachments": {},
   "cell_type": "markdown",
   "metadata": {},
   "source": [
    "运行的时候需要将`/path/to/your/tiff`路径替换为本地tiff影像的绝对路径"
   ]
  }
 ],
 "metadata": {
  "kernelspec": {
   "display_name": "python37",
   "language": "python",
   "name": "python3"
  },
  "language_info": {
   "codemirror_mode": {
    "name": "ipython",
    "version": 3
   },
   "file_extension": ".py",
   "mimetype": "text/x-python",
   "name": "python",
   "nbconvert_exporter": "python",
   "pygments_lexer": "ipython3",
   "version": "3.7.13 (default, Mar 28 2022, 07:24:34) \n[Clang 12.0.0 ]"
  },
  "vscode": {
   "interpreter": {
    "hash": "ccebe88ab91f0bb415246e570257620d1c095de960a0f0aa1c4929cc3258df9a"
   }
  }
 },
 "nbformat": 4,
 "nbformat_minor": 2
}
