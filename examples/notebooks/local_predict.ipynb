{
 "cells": [
  {
   "attachments": {},
   "cell_type": "markdown",
   "metadata": {},
   "source": [
    "## 本地模型推理"
   ]
  },
  {
   "cell_type": "code",
   "execution_count": 1,
   "metadata": {
    "execution": {
     "iopub.execute_input": "2023-09-07T09:04:46.258738Z",
     "iopub.status.busy": "2023-09-07T09:04:46.258225Z",
     "iopub.status.idle": "2023-09-07T09:04:46.267287Z",
     "shell.execute_reply": "2023-09-07T09:04:46.266355Z"
    }
   },
   "outputs": [],
   "source": [
    "import aiearth"
   ]
  }
 ],
 "metadata": {
  "kernelspec": {
   "display_name": "python37",
   "language": "python",
   "name": "python3"
  },
  "language_info": {
   "codemirror_mode": {
    "name": "ipython",
    "version": 3
   },
   "file_extension": ".py",
   "mimetype": "text/x-python",
   "name": "python",
   "nbconvert_exporter": "python",
   "pygments_lexer": "ipython3",
   "version": "3.9.12"
  },
  "vscode": {
   "interpreter": {
    "hash": "ccebe88ab91f0bb415246e570257620d1c095de960a0f0aa1c4929cc3258df9a"
   }
  }
 },
 "nbformat": 4,
 "nbformat_minor": 2
}
