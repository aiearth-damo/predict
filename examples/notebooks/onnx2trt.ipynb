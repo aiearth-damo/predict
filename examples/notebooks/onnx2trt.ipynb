{
 "cells": [
  {
   "attachments": {},
   "cell_type": "markdown",
   "metadata": {},
   "source": [
    "## onnx模型转trt"
   ]
  },
  {
   "attachments": {},
   "cell_type": "markdown",
   "metadata": {},
   "source": [
    "### 初始化TensorrtInfer"
   ]
  },
  {
   "cell_type": "code",
   "execution_count": null,
   "metadata": {},
   "outputs": [],
   "source": [
    "from aiearth.predict.predictors.infer_sdk.tensorrt_infer import TensorRTInfer\n",
    "\n",
    "trt = TensorRTInfer(\n",
    "    model_path=\"/path/to/your/onnx\", use_static=False\n",
    ")"
   ]
  },
  {
   "attachments": {},
   "cell_type": "markdown",
   "metadata": {},
   "source": [
    "运行的时候需要将 `/path/to/your/onnx` 路径替换为本地onnx模型的绝对路径，`use_static=False`表示模型没有对应的trt文件，需要先将onnx文件转换为trt engine，转换之后的trt engine是和显卡架构相关的，比如在TeslaV100上转换的模型推理时在TeslaT4的显卡上是不能运行的"
   ]
  },
  {
   "attachments": {},
   "cell_type": "markdown",
   "metadata": {},
   "source": [
    "### 获取trt engine路径"
   ]
  },
  {
   "attachments": {},
   "cell_type": "markdown",
   "metadata": {},
   "source": [
    "获取转换好的trt engine文件路径"
   ]
  },
  {
   "cell_type": "code",
   "execution_count": null,
   "metadata": {},
   "outputs": [],
   "source": [
    "print(trt.get_engine_path())"
   ]
  }
 ],
 "metadata": {
  "kernelspec": {
   "display_name": "python37",
   "language": "python",
   "name": "python3"
  },
  "language_info": {
   "codemirror_mode": {
    "name": "ipython",
    "version": 3
   },
   "file_extension": ".py",
   "mimetype": "text/x-python",
   "name": "python",
   "nbconvert_exporter": "python",
   "pygments_lexer": "ipython3",
   "version": "3.7.13 (default, Mar 28 2022, 07:24:34) \n[Clang 12.0.0 ]"
  },
  "vscode": {
   "interpreter": {
    "hash": "ccebe88ab91f0bb415246e570257620d1c095de960a0f0aa1c4929cc3258df9a"
   }
  }
 },
 "nbformat": 4,
 "nbformat_minor": 2
}
